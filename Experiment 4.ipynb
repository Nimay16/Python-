{
 "cells": [
  {
   "cell_type": "markdown",
   "id": "5ba4d862",
   "metadata": {},
   "source": [
    "# Exception Handling"
   ]
  },
  {
   "cell_type": "code",
   "execution_count": 3,
   "id": "092ba1c1",
   "metadata": {},
   "outputs": [
    {
     "name": "stdout",
     "output_type": "stream",
     "text": [
      "Enter the number of elements: 5\n",
      "Enter a element:1\n",
      "Enter a element:2\n",
      "Enter a element:3\n",
      "Enter a element:4\n",
      "Enter a element:5\n",
      "\n",
      "Enter the index\n",
      "enter -1 to exit:2\n",
      "The element is: 3\n",
      "\n",
      "Enter the index\n",
      "enter -1 to exit:5\n",
      "An error occurred\n",
      "\n",
      "Enter the index\n",
      "enter -1 to exit:-1\n",
      "Thank you\n"
     ]
    }
   ],
   "source": [
    "a=[]\n",
    "n=int(input('Enter the number of elements: '))\n",
    "for i in range (n):\n",
    "    v=int(input('Enter a element:'))\n",
    "    a.append(v)\n",
    "c=0\n",
    "while(c!=-1):\n",
    "    c=int(input('\\nEnter the index\\nenter -1 to exit:'))\n",
    "    if(c>=0):\n",
    "        try:\n",
    "            print (\"The element is: %d\" %(a[c]))\n",
    "        except:\n",
    "            print (\"An error occurred\")\n",
    "    else:\n",
    "        print('Thank you')"
   ]
  },
  {
   "cell_type": "code",
   "execution_count": 1,
   "id": "7b8101d2",
   "metadata": {},
   "outputs": [
    {
     "name": "stdout",
     "output_type": "stream",
     "text": [
      "Enter -1 to exit\n",
      "Enter a number:3\n",
      "ZeroDivisionError Occurred and Handled\n",
      "Enter a number:5\n",
      "NameError Occurred and Handled\n",
      "Enter a number:-1\n",
      "Thank you\n"
     ]
    }
   ],
   "source": [
    "def fun(a):\n",
    "    if a < 4:\n",
    " \n",
    "        # throws ZeroDivisionError for a = 3\n",
    "        b = a/(a-3)\n",
    " \n",
    "    # throws NameError if a >= 4\n",
    "    print(\"Value of b = \", b)\n",
    "c=0 \n",
    "print('Enter -1 to exit')\n",
    "while(c!=-1):\n",
    "    c=int(input('Enter a number:'))\n",
    "    if(c>=0):\n",
    "        try:\n",
    "            fun(c)\n",
    "    \n",
    "        except ZeroDivisionError:\n",
    "            print(\"ZeroDivisionError Occurred and Handled\")\n",
    "        except NameError:\n",
    "            print(\"NameError Occurred and Handled\")\n",
    "    else:\n",
    "        print('Thank you')"
   ]
  },
  {
   "cell_type": "code",
   "execution_count": 5,
   "id": "76a983ff",
   "metadata": {},
   "outputs": [
    {
     "name": "stdout",
     "output_type": "stream",
     "text": [
      "Enter 1 to continue\tEnter -1 to exit\n",
      "Enter first number:2\n",
      "Enter second number:3\n",
      "-5.0\n",
      "Enter a Choice:1\n",
      "Enter first number:2\n",
      "Enter second number:2\n",
      "Denominator is zero\n",
      "Enter a Choice:-1\n"
     ]
    }
   ],
   "source": [
    "def AbyB(a , b):\n",
    "    try:\n",
    "        c = ((a+b) / (a-b))\n",
    "    except ZeroDivisionError:\n",
    "        print (\"Denominator is zero\")\n",
    "    else:\n",
    "        print (c)\n",
    "\n",
    "choice=0 \n",
    "print('Enter 1 to continue\\tEnter -1 to exit')\n",
    "while(choice!=-1):\n",
    "    num1=int(input('Enter first number:'))\n",
    "    num2=int(input('Enter second number:'))\n",
    "    \n",
    "    AbyB(num1,num2)\n",
    "    choice=int(input('Enter a Choice:'))"
   ]
  },
  {
   "cell_type": "code",
   "execution_count": 6,
   "id": "bc295993",
   "metadata": {},
   "outputs": [
    {
     "name": "stdout",
     "output_type": "stream",
     "text": [
      "Can't divide by zero\n",
      "Thank You\n"
     ]
    }
   ],
   "source": [
    "try:\n",
    "    k = 5//0  # raises divide by zero exception.\n",
    "    print(k)\n",
    "    \n",
    "except ZeroDivisionError:\n",
    "    print(\"Can't divide by zero\")\n",
    "\n",
    "finally:\n",
    "    # this block is always executed\n",
    "    # regardless of exception generation.\n",
    "    print('Thank You')"
   ]
  },
  {
   "cell_type": "code",
   "execution_count": 10,
   "id": "09f1c2f6",
   "metadata": {},
   "outputs": [
    {
     "name": "stdout",
     "output_type": "stream",
     "text": [
      "Enter a positive integer: -1\n",
      "That is not a positive number!\n"
     ]
    }
   ],
   "source": [
    "try:\n",
    "    a = int(input(\"Enter a positive integer: \"))\n",
    "    if a <= 0:\n",
    "        raise ValueError(\"That is not a positive number!\")\n",
    "except ValueError as ve:\n",
    "        print(ve)"
   ]
  },
  {
   "cell_type": "code",
   "execution_count": 11,
   "id": "880fb162",
   "metadata": {},
   "outputs": [
    {
     "name": "stdout",
     "output_type": "stream",
     "text": [
      "Roots of the quadratic equation are : 2.0  3.0\n",
      "Roots are imaginary\n",
      "Roots of the quadratic equation are : -3.0  -3.0\n",
      "Not a quadratic equation as coefficient of x ^ 2 can't be 0\n"
     ]
    }
   ],
   "source": [
    "import math\n",
    "def quadratic(a, b, c):\n",
    "    try:\n",
    "        assert a != 0, \"Not a quadratic equation as coefficient of x ^ 2 can't be 0\"\n",
    "        D = (b * b - 4 * a*c)\n",
    "        assert D>= 0, \"Roots are imaginary\"\n",
    "        r1 = (-b + math.sqrt(D))/(2 * a)\n",
    "        r2 = (-b - math.sqrt(D))/(2 * a)\n",
    "        print(\"Roots of the quadratic equation are :\", r1, \"\", r2)\n",
    "    except AssertionError as msg:\n",
    "        print(msg)\n",
    "quadratic(-1, 5, -6)\n",
    "quadratic(1, 1, 6)\n",
    "quadratic(2, 12, 18)\n",
    "quadratic(0, 1, 3)"
   ]
  },
  {
   "cell_type": "code",
   "execution_count": 13,
   "id": "ea1f05bc",
   "metadata": {},
   "outputs": [
    {
     "name": "stdout",
     "output_type": "stream",
     "text": [
      "Guess The number between 1 and 20\n",
      "Enter a number: 5\n",
      "This value is too small, try again!\n",
      "\n",
      "Enter a number: 15\n",
      "This value is too large, try again!\n",
      "\n",
      "Enter a number: 10\n",
      "This value is too small, try again!\n",
      "\n",
      "Enter a number: 13\n",
      "Congratulations! You guessed it correctly.\n"
     ]
    }
   ],
   "source": [
    "class Error(Exception):\n",
    "    \"\"\"Base class for other exceptions\"\"\"\n",
    "    pass\n",
    "\n",
    "\n",
    "class ValueTooSmallError(Error):\n",
    "    \"\"\"Raised when the input value is too small\"\"\"\n",
    "    pass\n",
    "\n",
    "\n",
    "class ValueTooLargeError(Error):\n",
    "    \"\"\"Raised when the input value is too large\"\"\"\n",
    "    pass\n",
    "\n",
    "\n",
    "\n",
    "number = 13\n",
    "print('Guess The number between 1 and 20')\n",
    "\n",
    "while True:\n",
    "    try:\n",
    "        i_num = int(input(\"Enter a number: \"))\n",
    "        if i_num < number:\n",
    "            raise ValueTooSmallError\n",
    "        elif i_num > number:\n",
    "            raise ValueTooLargeError\n",
    "        break\n",
    "    except ValueTooSmallError:\n",
    "        print(\"This value is too small, try again!\")\n",
    "        print()\n",
    "    except ValueTooLargeError:\n",
    "        print(\"This value is too large, try again!\")\n",
    "        print()\n",
    "\n",
    "print(\"Congratulations! You guessed it correctly.\")"
   ]
  },
  {
   "cell_type": "code",
   "execution_count": null,
   "id": "00001621",
   "metadata": {},
   "outputs": [],
   "source": []
  }
 ],
 "metadata": {
  "kernelspec": {
   "display_name": "Python 3",
   "language": "python",
   "name": "python3"
  },
  "language_info": {
   "codemirror_mode": {
    "name": "ipython",
    "version": 3
   },
   "file_extension": ".py",
   "mimetype": "text/x-python",
   "name": "python",
   "nbconvert_exporter": "python",
   "pygments_lexer": "ipython3",
   "version": "3.8.8"
  }
 },
 "nbformat": 4,
 "nbformat_minor": 5
}
