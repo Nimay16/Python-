{
 "cells": [
  {
   "cell_type": "markdown",
   "id": "53073b24",
   "metadata": {},
   "source": [
    "## Deque"
   ]
  },
  {
   "cell_type": "code",
   "execution_count": 1,
   "id": "e0a0827c",
   "metadata": {},
   "outputs": [
    {
     "name": "stdout",
     "output_type": "stream",
     "text": [
      "deque(['name', 'age', 'DOB'])\n"
     ]
    }
   ],
   "source": [
    "from collections import deque \n",
    "      \n",
    "# Declaring deque \n",
    "queue = deque(['name','age','DOB'])  \n",
    "      \n",
    "print(queue)"
   ]
  },
  {
   "cell_type": "code",
   "execution_count": 3,
   "id": "5d4b0c96",
   "metadata": {},
   "outputs": [
    {
     "name": "stdout",
     "output_type": "stream",
     "text": [
      "The deque after appending at right is : \n",
      "deque([1, 2, 3, 4, 5, 6, 7, 8, 9, 10])\n",
      "The deque after appending at left is : \n",
      "deque([0, 1, 2, 3, 4, 5, 6, 7, 8, 9, 10])\n",
      "The deque after deleting from right is : \n",
      "deque([0, 1, 2, 3, 4, 5, 6, 7, 8, 9])\n",
      "The deque after deleting from left is : \n",
      "deque([1, 2, 3, 4, 5, 6, 7, 8, 9])\n"
     ]
    }
   ],
   "source": [
    "import collections\n",
    "  \n",
    "# initializing deque\n",
    "de = collections.deque([1,2,3,4,5,6,7,8,9])\n",
    "  \n",
    "# using append() to insert element at right end \n",
    "# inserts 10 at the end of deque\n",
    "de.append(10)\n",
    "  \n",
    "# printing modified deque\n",
    "print (\"The deque after appending at right is : \")\n",
    "print (de)\n",
    "  \n",
    "# using appendleft() to insert element at left end \n",
    "# inserts 0 at the beginning of deque\n",
    "de.appendleft(0)\n",
    "  \n",
    "# printing modified deque\n",
    "print (\"The deque after appending at left is : \")\n",
    "print (de)\n",
    "  \n",
    "# using pop() to delete element from right end \n",
    "# deletes 10 from the right end of deque\n",
    "de.pop()\n",
    "  \n",
    "# printing modified deque\n",
    "print (\"The deque after deleting from right is : \")\n",
    "print (de)\n",
    "  \n",
    "# using popleft() to delete element from left end \n",
    "# deletes 0 from the left end of deque\n",
    "de.popleft()\n",
    "  \n",
    "# printing modified deque\n",
    "print (\"The deque after deleting from left is : \")\n",
    "print (de)"
   ]
  },
  {
   "cell_type": "code",
   "execution_count": 4,
   "id": "971fce46",
   "metadata": {},
   "outputs": [
    {
     "name": "stdout",
     "output_type": "stream",
     "text": [
      "The number 4 first occurs at a position : \n",
      "4\n",
      "The deque after inserting 3 at 5th position is : \n",
      "deque([1, 2, 3, 3, 3, 4, 2, 4])\n",
      "The count of 3 in deque is : \n",
      "3\n",
      "The deque after deleting first occurrence of 3 is : \n",
      "deque([1, 2, 3, 3, 4, 2, 4])\n"
     ]
    }
   ],
   "source": [
    "import collections\n",
    "  \n",
    "# initializing deque\n",
    "de = collections.deque([1, 2, 3, 3, 4, 2, 4])\n",
    "  \n",
    "# using index() to print the first occurrence of 4\n",
    "print (\"The number 4 first occurs at a position : \")\n",
    "print (de.index(4,2,5))\n",
    "  \n",
    "# using insert() to insert the value 3 at 5th position\n",
    "de.insert(4,3)\n",
    "  \n",
    "# printing modified deque\n",
    "print (\"The deque after inserting 3 at 5th position is : \")\n",
    "print (de)\n",
    "  \n",
    "# using count() to count the occurrences of 3\n",
    "print (\"The count of 3 in deque is : \")\n",
    "print (de.count(3))\n",
    "  \n",
    "# using remove() to remove the first occurrence of 3\n",
    "de.remove(3)\n",
    "  \n",
    "# printing modified deque\n",
    "print (\"The deque after deleting first occurrence of 3 is : \")\n",
    "print (de)"
   ]
  },
  {
   "cell_type": "code",
   "execution_count": 5,
   "id": "780b3de9",
   "metadata": {},
   "outputs": [
    {
     "name": "stdout",
     "output_type": "stream",
     "text": [
      "The deque after extending deque at end is : \n",
      "deque([1, 2, 3, 4, 5, 6])\n",
      "The deque after extending deque at beginning is : \n",
      "deque([9, 8, 7, 1, 2, 3, 4, 5, 6])\n",
      "The deque after rotating deque is : \n",
      "deque([1, 2, 3, 4, 5, 6, 9, 8, 7])\n",
      "The deque after reversing deque is : \n",
      "deque([7, 8, 9, 6, 5, 4, 3, 2, 1])\n"
     ]
    }
   ],
   "source": [
    "import collections\n",
    "  \n",
    "# initializing deque\n",
    "de = collections.deque([1, 2, 3,])\n",
    "  \n",
    "# using extend() to add numbers to right end \n",
    "# adds 4,5,6 to right end\n",
    "de.extend([4,5,6])\n",
    "  \n",
    "# printing modified deque\n",
    "print (\"The deque after extending deque at end is : \")\n",
    "print (de)\n",
    "  \n",
    "# using extendleft() to add numbers to left end \n",
    "# adds 7,8,9 to right end\n",
    "de.extendleft([7,8,9])\n",
    "  \n",
    "# printing modified deque\n",
    "print (\"The deque after extending deque at beginning is : \")\n",
    "print (de)\n",
    "  \n",
    "# using rotate() to rotate the deque\n",
    "# rotates by 3 to left\n",
    "de.rotate(-3)\n",
    "  \n",
    "# printing modified deque\n",
    "print (\"The deque after rotating deque is : \")\n",
    "print (de)\n",
    "  \n",
    "# using reverse() to reverse the deque\n",
    "de.reverse()\n",
    "  \n",
    "# printing modified deque\n",
    "print (\"The deque after reversing deque is : \")\n",
    "print (de)"
   ]
  },
  {
   "cell_type": "markdown",
   "id": "279db0b4",
   "metadata": {},
   "source": [
    "## Tree"
   ]
  },
  {
   "cell_type": "code",
   "execution_count": null,
   "id": "2e3d3a41",
   "metadata": {},
   "outputs": [],
   "source": []
  }
 ],
 "metadata": {
  "kernelspec": {
   "display_name": "Python 3",
   "language": "python",
   "name": "python3"
  },
  "language_info": {
   "codemirror_mode": {
    "name": "ipython",
    "version": 3
   },
   "file_extension": ".py",
   "mimetype": "text/x-python",
   "name": "python",
   "nbconvert_exporter": "python",
   "pygments_lexer": "ipython3",
   "version": "3.8.8"
  }
 },
 "nbformat": 4,
 "nbformat_minor": 5
}
