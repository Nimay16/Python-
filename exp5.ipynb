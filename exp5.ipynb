{
 "cells": [
  {
   "cell_type": "code",
   "execution_count": 1,
   "id": "48990f30",
   "metadata": {},
   "outputs": [
    {
     "name": "stdout",
     "output_type": "stream",
     "text": [
      "0.1430049727634164\n"
     ]
    }
   ],
   "source": [
    "import random\n",
    "value=random.random()\n",
    "print(value)"
   ]
  },
  {
   "cell_type": "code",
   "execution_count": 2,
   "id": "c394d2b4",
   "metadata": {},
   "outputs": [
    {
     "name": "stdout",
     "output_type": "stream",
     "text": [
      "7.0938512228686434\n"
     ]
    }
   ],
   "source": [
    "import random\n",
    "value=random.uniform(1,10)\n",
    "print(value)"
   ]
  },
  {
   "cell_type": "code",
   "execution_count": 5,
   "id": "02b795bb",
   "metadata": {},
   "outputs": [
    {
     "name": "stdout",
     "output_type": "stream",
     "text": [
      "hey,Nimay!\n"
     ]
    }
   ],
   "source": [
    "import random\n",
    "#random greetings\n",
    "greetings=['hello','hi','hey','hola']\n",
    "value=random.choice(greetings)\n",
    "print(value + ',Nimay!')"
   ]
  },
  {
   "cell_type": "code",
   "execution_count": 6,
   "id": "e4f819b2",
   "metadata": {},
   "outputs": [
    {
     "name": "stdout",
     "output_type": "stream",
     "text": [
      "2.0\n",
      "3\n",
      "2\n",
      "16.0\n",
      "42.43998894277659\n",
      "22.627416997969522\n",
      "96\n",
      "96.0\n",
      "90.00005487005532\n",
      "3.141592653589793\n"
     ]
    }
   ],
   "source": [
    "import math as h\n",
    "print(h.sqrt(4))\n",
    "print(h.ceil(2.4))\n",
    "print(h.floor(2.6))\n",
    "print(h.pow(2,4))\n",
    "print(h.pow(2.3,4.5))\n",
    "print(h.pow(2,4.5))\n",
    "print(abs(-96))\n",
    "print(h.fabs(-96))\n",
    "print(h.radians(5156.6233))\n",
    "print(h.pi)"
   ]
  },
  {
   "cell_type": "code",
   "execution_count": null,
   "id": "0f7e1035",
   "metadata": {},
   "outputs": [],
   "source": []
  }
 ],
 "metadata": {
  "kernelspec": {
   "display_name": "Python 3",
   "language": "python",
   "name": "python3"
  },
  "language_info": {
   "codemirror_mode": {
    "name": "ipython",
    "version": 3
   },
   "file_extension": ".py",
   "mimetype": "text/x-python",
   "name": "python",
   "nbconvert_exporter": "python",
   "pygments_lexer": "ipython3",
   "version": "3.8.8"
  }
 },
 "nbformat": 4,
 "nbformat_minor": 5
}
