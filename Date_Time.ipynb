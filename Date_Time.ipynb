{
 "cells": [
  {
   "cell_type": "code",
   "execution_count": 2,
   "id": "d210754a",
   "metadata": {},
   "outputs": [
    {
     "name": "stdout",
     "output_type": "stream",
     "text": [
      "Fri Nov 12 09:26:47 2021\n"
     ]
    }
   ],
   "source": [
    "import time\n",
    "t=time.ctime()\n",
    "print(t)"
   ]
  },
  {
   "cell_type": "code",
   "execution_count": 7,
   "id": "195e3d6c",
   "metadata": {},
   "outputs": [
    {
     "name": "stdout",
     "output_type": "stream",
     "text": [
      "2021-11-12 09:34:24.764048\n",
      "Date is: 12/11/2021\n",
      "Time is: 9:34:24\n"
     ]
    }
   ],
   "source": [
    "from datetime import *\n",
    "dt=datetime.now()\n",
    "print(dt)\n",
    "print(\"Date is: {}/{}/{}\".format(dt.day,dt.month,dt.year))\n",
    "print(\"Time is: {}:{}:{}\".format(dt.hour,dt.minute,dt.second))"
   ]
  },
  {
   "cell_type": "code",
   "execution_count": 11,
   "id": "8c814390",
   "metadata": {},
   "outputs": [
    {
     "name": "stdout",
     "output_type": "stream",
     "text": [
      "2021-11-12 09:47:33.266203\n",
      "Day of the year: 316\n",
      "Week day: Friday\n"
     ]
    }
   ],
   "source": [
    "from datetime import *\n",
    "d=datetime.today()\n",
    "print(d)\n",
    "yd=d.strftime('%j')\n",
    "wd=d.strftime('%A')\n",
    "print('Day of the year: '+yd)\n",
    "print('Week day: '+ wd)"
   ]
  },
  {
   "cell_type": "code",
   "execution_count": 14,
   "id": "f2c48763",
   "metadata": {},
   "outputs": [
    {
     "name": "stdout",
     "output_type": "stream",
     "text": [
      "Number of days:  139\n",
      "Number of weeks:  19\n",
      "Number of months:  4\n"
     ]
    }
   ],
   "source": [
    "from datetime import *\n",
    "\n",
    "date1 = date(2020, 12, 23)\n",
    "date2 = date(2021, 5, 11)\n",
    " \n",
    "days = abs(date1 - date2).days\n",
    "print('Number of days: ',days)\n",
    "print(\"Number of weeks: \",days // 7)\n",
    "print(\"Number of months: \",days // 30)"
   ]
  },
  {
   "cell_type": "code",
   "execution_count": null,
   "id": "728bd579",
   "metadata": {},
   "outputs": [],
   "source": []
  }
 ],
 "metadata": {
  "kernelspec": {
   "display_name": "Python 3",
   "language": "python",
   "name": "python3"
  },
  "language_info": {
   "codemirror_mode": {
    "name": "ipython",
    "version": 3
   },
   "file_extension": ".py",
   "mimetype": "text/x-python",
   "name": "python",
   "nbconvert_exporter": "python",
   "pygments_lexer": "ipython3",
   "version": "3.8.8"
  }
 },
 "nbformat": 4,
 "nbformat_minor": 5
}
