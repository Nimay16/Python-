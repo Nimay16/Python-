{
 "cells": [
  {
   "cell_type": "code",
   "execution_count": 3,
   "id": "03e1491d",
   "metadata": {},
   "outputs": [],
   "source": [
    "from tkinter import messagebox\n",
    "from tkinter import *\n",
    "root = Tk ()\n",
    "root.title('Login Page')\n",
    "root.geometry('500x280')\n",
    "f= Frame(root,height=400,width=500)\n",
    "f.pack()\n",
    "\n",
    "\n",
    "\n",
    "l1=Label(f,text='Username',width=20,height=2)\n",
    "l2=Label(f,text='Password',width=20,height=2)\n",
    "l3=Label(f,text='Address',width=20,height=2)\n",
    "l4=Label(f,text='Favoutite Subject',width=20,height=2)\n",
    "l5=Label(f,text='Gender',width=20,height=2)\n",
    "\n",
    "e1=Entry(f,width=20)\n",
    "e2=Entry(f,width=20,show='*')\n",
    "t= Text(f,width=20,height=5)\n",
    "c1=Checkbutton(f,text='DWM')\n",
    "c2=Checkbutton(f,text='AI')\n",
    "c3=Checkbutton(f,text='Python')\n",
    "\n",
    "def hellocallback():\n",
    "    s1=e1.get()\n",
    "    s2=e2.get()\n",
    "    if s1=='Nim' and s2=='ngs123':\n",
    "        messagebox.showinfo('Welcome  Login Successful...')\n",
    "    else:\n",
    "        messagebox.showerror('Invalid User....')\n",
    "\n",
    "var=IntVar()\n",
    "r1=Radiobutton(f,text='Male',variable=var,value=1)\n",
    "r2=Radiobutton(f,text='Female',variable=var,value=2)\n",
    "\n",
    "b=Button(f,text='Login',width=15,height=2,command=hellocallback)\n",
    "\n",
    "#For allignment\n",
    "\n",
    "l1.grid(row=0,column=0)\n",
    "e1.grid(row=0,column=1)\n",
    "l2.grid(row=1,column=0)\n",
    "e2.grid(row=1,column=1)\n",
    "l3.grid(row=2,column=0)\n",
    "t.grid(row=2,column=1)\n",
    "l4.grid(row=3,column=0)\n",
    "c1.grid(row=3,column=1)\n",
    "c2.grid(row=3,column=2)\n",
    "c3.grid(row=3,column=3)\n",
    "l5.grid(row=4,column=0)\n",
    "r1.grid(row=4,column=1)\n",
    "r2.grid(row=4,column=2)\n",
    "b.grid(row=5,column=0)\n",
    "root.mainloop()\n"
   ]
  },
  {
   "cell_type": "code",
   "execution_count": null,
   "id": "b9074f93",
   "metadata": {},
   "outputs": [],
   "source": []
  }
 ],
 "metadata": {
  "kernelspec": {
   "display_name": "Python 3",
   "language": "python",
   "name": "python3"
  },
  "language_info": {
   "codemirror_mode": {
    "name": "ipython",
    "version": 3
   },
   "file_extension": ".py",
   "mimetype": "text/x-python",
   "name": "python",
   "nbconvert_exporter": "python",
   "pygments_lexer": "ipython3",
   "version": "3.8.8"
  }
 },
 "nbformat": 4,
 "nbformat_minor": 5
}
