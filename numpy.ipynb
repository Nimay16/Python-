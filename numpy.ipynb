{
 "cells": [
  {
   "cell_type": "code",
   "execution_count": 1,
   "id": "ff5fb3bd",
   "metadata": {},
   "outputs": [
    {
     "name": "stdout",
     "output_type": "stream",
     "text": [
      "[1 2 3 4 5 6 7 8 9]\n",
      "[2 4 6]\n",
      "[1 2 3 4 5 6 7 8 9]\n",
      "[8 7 6 5 4]\n",
      "[9 7 5]\n"
     ]
    }
   ],
   "source": [
    "from numpy import *\n",
    "a=arange(1,10)\n",
    "print(a)\n",
    "\n",
    "b=a[1:7:2]\n",
    "print(b)\n",
    "\n",
    "b=a[::]\n",
    "print(b)\n",
    "\n",
    "b=a[-2:2:-1]\n",
    "print(b)\n",
    "\n",
    "b=a[-1:2:-2]\n",
    "print(b)\n"
   ]
  },
  {
   "cell_type": "code",
   "execution_count": 12,
   "id": "393abd78",
   "metadata": {},
   "outputs": [
    {
     "name": "stdout",
     "output_type": "stream",
     "text": [
      "[ 3  4  5  6  7  8  9 10 11]\n",
      "[[ 3  4  5]\n",
      " [ 6  7  8]\n",
      " [ 9 10 11]]\n"
     ]
    }
   ],
   "source": [
    "import numpy as np\n",
    "\n",
    "a=np.arange(3,12,1)\n",
    "\n",
    "print(a)\n",
    "\n",
    "b=a.reshape(3,3)\n",
    "\n",
    "print(b)\n",
    "\n"
   ]
  }
 ],
 "metadata": {
  "kernelspec": {
   "display_name": "Python 3",
   "language": "python",
   "name": "python3"
  },
  "language_info": {
   "codemirror_mode": {
    "name": "ipython",
    "version": 3
   },
   "file_extension": ".py",
   "mimetype": "text/x-python",
   "name": "python",
   "nbconvert_exporter": "python",
   "pygments_lexer": "ipython3",
   "version": "3.8.8"
  }
 },
 "nbformat": 4,
 "nbformat_minor": 5
}
