{
 "cells": [
  {
   "cell_type": "code",
   "execution_count": 8,
   "id": "6ee5db02",
   "metadata": {},
   "outputs": [
    {
     "name": "stdout",
     "output_type": "stream",
     "text": [
      "5\n"
     ]
    }
   ],
   "source": [
    "# Creating a Class\n",
    "class Myclass:\n",
    "    x = 5\n",
    "\n",
    "# Creating an Object\n",
    "ob1 = Myclass()\n",
    "print(ob1.x)"
   ]
  },
  {
   "cell_type": "code",
   "execution_count": 3,
   "id": "507033a3",
   "metadata": {},
   "outputs": [
    {
     "name": "stdout",
     "output_type": "stream",
     "text": [
      "John\n",
      "36\n"
     ]
    }
   ],
   "source": [
    "# __int__fun()\n",
    "class Person:\n",
    "  def __init__(self, name, age):\n",
    "    self.name = name\n",
    "    self.age = age\n",
    "\n",
    "p1 = Person(\"John\", 36)\n",
    "\n",
    "print(p1.name)\n",
    "print(p1.age)"
   ]
  },
  {
   "cell_type": "code",
   "execution_count": 4,
   "id": "23e57a8c",
   "metadata": {},
   "outputs": [
    {
     "name": "stdout",
     "output_type": "stream",
     "text": [
      "Hello my name is Jay\n"
     ]
    }
   ],
   "source": [
    "# Method inside an Object\n",
    "class Person1:\n",
    "  def __init__(self, name, age):\n",
    "    self.name = name\n",
    "    self.age = age\n",
    "\n",
    "  def myfunc(self):\n",
    "    print(\"Hello my name is \" + self.name)\n",
    "\n",
    "p1 = Person1(\"Jay\", 24)\n",
    "p1.myfunc()\n"
   ]
  },
  {
   "cell_type": "code",
   "execution_count": 5,
   "id": "4bb13212",
   "metadata": {},
   "outputs": [
    {
     "name": "stdout",
     "output_type": "stream",
     "text": [
      "Hello my name is Raj\n"
     ]
    }
   ],
   "source": [
    "# Function without self parameter\n",
    "class Person2:\n",
    "  def __init__(myobject, name, age):\n",
    "    myobject.name = name\n",
    "    myobject.age = age\n",
    "\n",
    "  def myfunc1(abc):\n",
    "    print(\"Hello my name is \" + abc.name)\n",
    "\n",
    "p1 = Person2(\"Raj\", 46)\n",
    "p1.myfunc1()"
   ]
  },
  {
   "cell_type": "code",
   "execution_count": 6,
   "id": "1dada5b7",
   "metadata": {},
   "outputs": [
    {
     "name": "stdout",
     "output_type": "stream",
     "text": [
      "Ram\n",
      "26\n",
      "New name is Jayhis age is  24\n"
     ]
    }
   ],
   "source": [
    "# Modifying Object properties\n",
    "class myClass:\n",
    "    def __init__(self, name, age):\n",
    "        self.name = name\n",
    "        self.age = age\n",
    "\n",
    "\n",
    "p2 = Person(\"Ram\", 26)\n",
    "\n",
    "print(p2.name)\n",
    "print(p2.age)\n",
    "\n",
    "p2.name = 'Jay'\n",
    "p2.age = 24\n",
    "print('New name is ' + p2.name + 'his age is ', p2.age)"
   ]
  },
  {
   "cell_type": "code",
   "execution_count": 7,
   "id": "f144bb9f",
   "metadata": {},
   "outputs": [
    {
     "name": "stdout",
     "output_type": "stream",
     "text": [
      "Hi this is a function.\n"
     ]
    }
   ],
   "source": [
    "# Creating a function\n",
    "def Myfunc():\n",
    "    print(\"Hi this is a function.\")\n",
    "\n",
    "# Calling a function\n",
    "Myfunc()"
   ]
  },
  {
   "cell_type": "code",
   "execution_count": 10,
   "id": "f89d55fc",
   "metadata": {},
   "outputs": [
    {
     "name": "stdout",
     "output_type": "stream",
     "text": [
      "Hi Nimay\n",
      "Hi Ram\n",
      "Hi Jay\n"
     ]
    }
   ],
   "source": [
    "# Adding Arguments in a Function\n",
    "def Name(fname):\n",
    "    print(\"Hi \"+ fname)\n",
    "\n",
    "Name('Nimay')\n",
    "Name('Ram')\n",
    "Name('Jay')"
   ]
  },
  {
   "cell_type": "code",
   "execution_count": 12,
   "id": "368cb292",
   "metadata": {},
   "outputs": [
    {
     "name": "stdout",
     "output_type": "stream",
     "text": [
      "Multiplying of 2 number\n",
      "Enter a number: 15\n",
      "Enter a number: 2\n",
      "Result is:  30\n"
     ]
    }
   ],
   "source": [
    "# Adding more than 1 parameter \n",
    "def mul(num1, num2):\n",
    "    num3 = num1 * num2\n",
    "    print('Result is: ',num3)\n",
    "\n",
    "print('Multiplying of 2 number')\n",
    "a=int(input('Enter a number: '))\n",
    "b=int(input('Enter a number: '))\n",
    "\n",
    "mul(a,b)"
   ]
  },
  {
   "cell_type": "code",
   "execution_count": 1,
   "id": "405bece0",
   "metadata": {},
   "outputs": [
    {
     "name": "stdout",
     "output_type": "stream",
     "text": [
      "Nimay is  19  years old.\n",
      "Gautam is  47  years old.\n"
     ]
    }
   ],
   "source": [
    "# Default Parameter Value\n",
    "def func(name='Nimay',age=19):\n",
    "    print(name+ ' is ', age, ' years old.')\n",
    "\n",
    "func()\n",
    "func('Gautam', 47)"
   ]
  },
  {
   "cell_type": "code",
   "execution_count": 5,
   "id": "6aec22cd",
   "metadata": {},
   "outputs": [
    {
     "name": "stdout",
     "output_type": "stream",
     "text": [
      "Enter a number: 5\n",
      "The factorial of 5 is 120\n"
     ]
    }
   ],
   "source": [
    "# Recursion\n",
    "def factorial(x):\n",
    "    if x == 1:\n",
    "        return 1\n",
    "    else:\n",
    "        return (x * factorial(x-1))\n",
    "\n",
    "\n",
    "a = int(input(\"Enter a number: \"))\n",
    "print(\"The factorial of\", a, \"is\", factorial(a))"
   ]
  },
  {
   "cell_type": "code",
   "execution_count": 7,
   "id": "9c2a6c62",
   "metadata": {},
   "outputs": [
    {
     "name": "stdout",
     "output_type": "stream",
     "text": [
      "Enter 1st number: 4\n",
      "Enter 2nd number: 5\n",
      "The smaller number is: 4\n"
     ]
    }
   ],
   "source": [
    "# Inbuilt function\n",
    "# here int(),input(), min() are inbult functions. \n",
    "a=int(input(\"Enter 1st number: \"))\n",
    "b=int(input(\"Enter 2nd number: \"))\n",
    "\n",
    "print(\"The smaller number is:\", min(a,b))\n"
   ]
  },
  {
   "cell_type": "code",
   "execution_count": null,
   "id": "58811fb7",
   "metadata": {},
   "outputs": [],
   "source": []
  }
 ],
 "metadata": {
  "kernelspec": {
   "display_name": "Python 3",
   "language": "python",
   "name": "python3"
  },
  "language_info": {
   "codemirror_mode": {
    "name": "ipython",
    "version": 3
   },
   "file_extension": ".py",
   "mimetype": "text/x-python",
   "name": "python",
   "nbconvert_exporter": "python",
   "pygments_lexer": "ipython3",
   "version": "3.8.8"
  }
 },
 "nbformat": 4,
 "nbformat_minor": 5
}
