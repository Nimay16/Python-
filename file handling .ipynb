{
 "cells": [
  {
   "cell_type": "code",
   "execution_count": 2,
   "id": "fa7400b7",
   "metadata": {},
   "outputs": [],
   "source": [
    "file=open(\"file_handling.txt\",\"x\")"
   ]
  },
  {
   "cell_type": "code",
   "execution_count": 3,
   "id": "da9a68e1",
   "metadata": {},
   "outputs": [],
   "source": [
    "file=open(\"file_handling.txt\",\"w\")\n",
    "file.write(\"This is for python lab.\")\n",
    "file.write(\"This lab is for python file handling.\")\n",
    "file.close()"
   ]
  },
  {
   "cell_type": "code",
   "execution_count": 5,
   "id": "28148b0d",
   "metadata": {},
   "outputs": [
    {
     "name": "stdout",
     "output_type": "stream",
     "text": [
      "This is for python lab.This lab is for python file handling.\n"
     ]
    }
   ],
   "source": [
    "file=open(\"file_handling.txt\",\"r\")\n",
    "print(file.read())\n",
    "file.close()"
   ]
  },
  {
   "cell_type": "code",
   "execution_count": 9,
   "id": "de565e9b",
   "metadata": {},
   "outputs": [],
   "source": [
    "file=open(\"file_handling.txt\",\"a\")\n",
    "file.write(\"\\nHi the is a new line.\")\n",
    "file.close()"
   ]
  },
  {
   "cell_type": "code",
   "execution_count": 10,
   "id": "8de328db",
   "metadata": {},
   "outputs": [
    {
     "name": "stdout",
     "output_type": "stream",
     "text": [
      "This is for python lab.This lab is for python file handling.\n",
      "Hi the is a new line\n",
      "Hi the is a new line.\n"
     ]
    }
   ],
   "source": [
    "file=open(\"t\",\"r\")\n",
    "print(file.read())\n",
    "file.close()"
   ]
  },
  {
   "cell_type": "code",
   "execution_count": 1,
   "id": "1d833e34",
   "metadata": {},
   "outputs": [
    {
     "name": "stdout",
     "output_type": "stream",
     "text": [
      "This is for python lab.This lab is for python file handling.\n",
      "\n"
     ]
    }
   ],
   "source": [
    "file=open(\"file_handling.txt\",\"r\")\n",
    "print(file.readline())\n"
   ]
  },
  {
   "cell_type": "code",
   "execution_count": null,
   "id": "a18f2dd7",
   "metadata": {},
   "outputs": [],
   "source": []
  }
 ],
 "metadata": {
  "kernelspec": {
   "display_name": "Python 3",
   "language": "python",
   "name": "python3"
  },
  "language_info": {
   "codemirror_mode": {
    "name": "ipython",
    "version": 3
   },
   "file_extension": ".py",
   "mimetype": "text/x-python",
   "name": "python",
   "nbconvert_exporter": "python",
   "pygments_lexer": "ipython3",
   "version": "3.8.8"
  }
 },
 "nbformat": 4,
 "nbformat_minor": 5
}
